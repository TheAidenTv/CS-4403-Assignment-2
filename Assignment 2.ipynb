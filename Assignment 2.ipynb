{
 "cells": [
  {
   "cell_type": "code",
   "execution_count": 1,
   "metadata": {},
   "outputs": [],
   "source": [
    "# Importing the libraries\n",
    "import numpy as np\n",
    "import matplotlib.pyplot as plt\n",
    "import pandas as pd\n",
    "import pygwalker as pyg\n",
    "\n",
    "# Importing the dataset from xlsx file\n",
    "df = pd.read_excel('NM student infractions 2010-2022.xlsx', sheet_name='Student Infractions')"
   ]
  },
  {
   "cell_type": "code",
   "execution_count": 2,
   "metadata": {},
   "outputs": [
    {
     "data": {
      "text/html": [
       "<div>\n",
       "<style scoped>\n",
       "    .dataframe tbody tr th:only-of-type {\n",
       "        vertical-align: middle;\n",
       "    }\n",
       "\n",
       "    .dataframe tbody tr th {\n",
       "        vertical-align: top;\n",
       "    }\n",
       "\n",
       "    .dataframe thead th {\n",
       "        text-align: right;\n",
       "    }\n",
       "</style>\n",
       "<table border=\"1\" class=\"dataframe\">\n",
       "  <thead>\n",
       "    <tr style=\"text-align: right;\">\n",
       "      <th></th>\n",
       "      <th>District Name</th>\n",
       "      <th>District Code</th>\n",
       "      <th>Location Organization Type Code</th>\n",
       "      <th>School Year</th>\n",
       "      <th>Student Grade Level</th>\n",
       "      <th>Infraction Event ID</th>\n",
       "      <th>Discipline Infraction Date</th>\n",
       "      <th>Discipline Infraction Code</th>\n",
       "      <th>Discipline Infraction</th>\n",
       "      <th>Drug Related</th>\n",
       "      <th>...</th>\n",
       "      <th>Section 504 Status</th>\n",
       "      <th>R3</th>\n",
       "      <th>W1</th>\n",
       "      <th>W2</th>\n",
       "      <th>W4</th>\n",
       "      <th>W5</th>\n",
       "      <th>WD</th>\n",
       "      <th>WDO</th>\n",
       "      <th>WG</th>\n",
       "      <th>WC</th>\n",
       "    </tr>\n",
       "  </thead>\n",
       "  <tbody>\n",
       "    <tr>\n",
       "      <th>0</th>\n",
       "      <td>ABQ SCHOOL OF EXCELLENCE</td>\n",
       "      <td>516</td>\n",
       "      <td>Charter</td>\n",
       "      <td>2014-06-30</td>\n",
       "      <td>8</td>\n",
       "      <td>6</td>\n",
       "      <td>2014-04-17</td>\n",
       "      <td>12</td>\n",
       "      <td>Sexual Harassment</td>\n",
       "      <td>No</td>\n",
       "      <td>...</td>\n",
       "      <td>No</td>\n",
       "      <td>N</td>\n",
       "      <td>N</td>\n",
       "      <td>N</td>\n",
       "      <td>N</td>\n",
       "      <td>N</td>\n",
       "      <td>N</td>\n",
       "      <td>N</td>\n",
       "      <td>N</td>\n",
       "      <td>N</td>\n",
       "    </tr>\n",
       "    <tr>\n",
       "      <th>1</th>\n",
       "      <td>ABQ SCHOOL OF EXCELLENCE</td>\n",
       "      <td>516</td>\n",
       "      <td>Charter</td>\n",
       "      <td>2014-06-30</td>\n",
       "      <td>8</td>\n",
       "      <td>4</td>\n",
       "      <td>2014-02-03</td>\n",
       "      <td>14</td>\n",
       "      <td>Bullying</td>\n",
       "      <td>No</td>\n",
       "      <td>...</td>\n",
       "      <td>No</td>\n",
       "      <td>N</td>\n",
       "      <td>N</td>\n",
       "      <td>N</td>\n",
       "      <td>N</td>\n",
       "      <td>N</td>\n",
       "      <td>N</td>\n",
       "      <td>N</td>\n",
       "      <td>N</td>\n",
       "      <td>N</td>\n",
       "    </tr>\n",
       "    <tr>\n",
       "      <th>2</th>\n",
       "      <td>ABQ SCHOOL OF EXCELLENCE</td>\n",
       "      <td>516</td>\n",
       "      <td>Charter</td>\n",
       "      <td>2014-06-30</td>\n",
       "      <td>8</td>\n",
       "      <td>8</td>\n",
       "      <td>2014-05-06</td>\n",
       "      <td>14</td>\n",
       "      <td>Bullying</td>\n",
       "      <td>No</td>\n",
       "      <td>...</td>\n",
       "      <td>No</td>\n",
       "      <td>N</td>\n",
       "      <td>N</td>\n",
       "      <td>N</td>\n",
       "      <td>N</td>\n",
       "      <td>N</td>\n",
       "      <td>N</td>\n",
       "      <td>N</td>\n",
       "      <td>N</td>\n",
       "      <td>N</td>\n",
       "    </tr>\n",
       "    <tr>\n",
       "      <th>3</th>\n",
       "      <td>ABQ SCHOOL OF EXCELLENCE</td>\n",
       "      <td>516</td>\n",
       "      <td>Charter</td>\n",
       "      <td>2014-06-30</td>\n",
       "      <td>8</td>\n",
       "      <td>3</td>\n",
       "      <td>2014-01-13</td>\n",
       "      <td>11</td>\n",
       "      <td>Other Violence - General</td>\n",
       "      <td>No</td>\n",
       "      <td>...</td>\n",
       "      <td>No</td>\n",
       "      <td>N</td>\n",
       "      <td>N</td>\n",
       "      <td>N</td>\n",
       "      <td>N</td>\n",
       "      <td>N</td>\n",
       "      <td>N</td>\n",
       "      <td>N</td>\n",
       "      <td>N</td>\n",
       "      <td>N</td>\n",
       "    </tr>\n",
       "    <tr>\n",
       "      <th>4</th>\n",
       "      <td>ABQ SCHOOL OF EXCELLENCE</td>\n",
       "      <td>516</td>\n",
       "      <td>Charter</td>\n",
       "      <td>2014-06-30</td>\n",
       "      <td>8</td>\n",
       "      <td>1</td>\n",
       "      <td>2013-10-04</td>\n",
       "      <td>11</td>\n",
       "      <td>Other Violence - General</td>\n",
       "      <td>No</td>\n",
       "      <td>...</td>\n",
       "      <td>No</td>\n",
       "      <td>N</td>\n",
       "      <td>N</td>\n",
       "      <td>N</td>\n",
       "      <td>N</td>\n",
       "      <td>N</td>\n",
       "      <td>N</td>\n",
       "      <td>N</td>\n",
       "      <td>N</td>\n",
       "      <td>N</td>\n",
       "    </tr>\n",
       "  </tbody>\n",
       "</table>\n",
       "<p>5 rows × 39 columns</p>\n",
       "</div>"
      ],
      "text/plain": [
       "              District Name  District Code Location Organization Type Code  \\\n",
       "0  ABQ SCHOOL OF EXCELLENCE            516                         Charter   \n",
       "1  ABQ SCHOOL OF EXCELLENCE            516                         Charter   \n",
       "2  ABQ SCHOOL OF EXCELLENCE            516                         Charter   \n",
       "3  ABQ SCHOOL OF EXCELLENCE            516                         Charter   \n",
       "4  ABQ SCHOOL OF EXCELLENCE            516                         Charter   \n",
       "\n",
       "  School Year Student Grade Level Infraction Event ID  \\\n",
       "0  2014-06-30                   8                   6   \n",
       "1  2014-06-30                   8                   4   \n",
       "2  2014-06-30                   8                   8   \n",
       "3  2014-06-30                   8                   3   \n",
       "4  2014-06-30                   8                   1   \n",
       "\n",
       "  Discipline Infraction Date Discipline Infraction Code  \\\n",
       "0                 2014-04-17                         12   \n",
       "1                 2014-02-03                         14   \n",
       "2                 2014-05-06                         14   \n",
       "3                 2014-01-13                         11   \n",
       "4                 2013-10-04                         11   \n",
       "\n",
       "      Discipline Infraction Drug Related  ... Section 504 Status R3 W1 W2 W4  \\\n",
       "0         Sexual Harassment           No  ...                 No  N  N  N  N   \n",
       "1                  Bullying           No  ...                 No  N  N  N  N   \n",
       "2                  Bullying           No  ...                 No  N  N  N  N   \n",
       "3  Other Violence - General           No  ...                 No  N  N  N  N   \n",
       "4  Other Violence - General           No  ...                 No  N  N  N  N   \n",
       "\n",
       "  W5  WD WDO  WG WC  \n",
       "0  N   N   N   N  N  \n",
       "1  N   N   N   N  N  \n",
       "2  N   N   N   N  N  \n",
       "3  N   N   N   N  N  \n",
       "4  N   N   N   N  N  \n",
       "\n",
       "[5 rows x 39 columns]"
      ]
     },
     "execution_count": 2,
     "metadata": {},
     "output_type": "execute_result"
    }
   ],
   "source": [
    "df.head()"
   ]
  },
  {
   "cell_type": "code",
   "execution_count": 3,
   "metadata": {},
   "outputs": [
    {
     "data": {
      "text/plain": [
       "Index(['District Name', 'District Code', 'Location Organization Type Code',\n",
       "       'School Year', 'Student Grade Level', 'Infraction Event ID',\n",
       "       'Discipline Infraction Date', 'Discipline Infraction Code',\n",
       "       'Discipline Infraction', 'Drug Related', 'Alcohol Related',\n",
       "       'Gang Related', 'Hate Crime', 'Serious Injury', 'Criminal Charge Code',\n",
       "       'Repeat Offender', 'Discipline Response Code', 'Discipline Response',\n",
       "       'Discipline Response Duration', 'Admin First Name', 'Admin Last Name',\n",
       "       'Admin License Number', 'Student Gender Code',\n",
       "       'Student Race Ethnicity Derived', 'Student Hispanic Indicator',\n",
       "       'Special Ed Status Code', 'Gifted Participation Code', 'Immigrant',\n",
       "       'Food Program Participation Code', 'Section 504 Status', 'R3', 'W1',\n",
       "       'W2', 'W4', 'W5', 'WD', 'WDO', 'WG', 'WC'],\n",
       "      dtype='object')"
      ]
     },
     "execution_count": 3,
     "metadata": {},
     "output_type": "execute_result"
    }
   ],
   "source": [
    "df.columns"
   ]
  },
  {
   "cell_type": "code",
   "execution_count": 4,
   "metadata": {},
   "outputs": [
    {
     "data": {
      "text/plain": [
       "(285917, 39)"
      ]
     },
     "execution_count": 4,
     "metadata": {},
     "output_type": "execute_result"
    }
   ],
   "source": [
    "df.shape"
   ]
  },
  {
   "cell_type": "code",
   "execution_count": 5,
   "metadata": {},
   "outputs": [
    {
     "name": "stdout",
     "output_type": "stream",
     "text": [
      "<class 'pandas.core.frame.DataFrame'>\n",
      "RangeIndex: 285917 entries, 0 to 285916\n",
      "Data columns (total 39 columns):\n",
      " #   Column                           Non-Null Count   Dtype         \n",
      "---  ------                           --------------   -----         \n",
      " 0   District Name                    285917 non-null  object        \n",
      " 1   District Code                    285917 non-null  int64         \n",
      " 2   Location Organization Type Code  285912 non-null  object        \n",
      " 3   School Year                      285917 non-null  datetime64[ns]\n",
      " 4   Student Grade Level              285917 non-null  object        \n",
      " 5   Infraction Event ID              285917 non-null  object        \n",
      " 6   Discipline Infraction Date       285917 non-null  datetime64[ns]\n",
      " 7   Discipline Infraction Code       285917 non-null  object        \n",
      " 8   Discipline Infraction            285917 non-null  object        \n",
      " 9   Drug Related                     285917 non-null  object        \n",
      " 10  Alcohol Related                  285917 non-null  object        \n",
      " 11  Gang Related                     285917 non-null  object        \n",
      " 12  Hate Crime                       285917 non-null  object        \n",
      " 13  Serious Injury                   285917 non-null  object        \n",
      " 14  Criminal Charge Code             285223 non-null  object        \n",
      " 15  Repeat Offender                  285917 non-null  object        \n",
      " 16  Discipline Response Code         284202 non-null  float64       \n",
      " 17  Discipline Response              284202 non-null  object        \n",
      " 18  Discipline Response Duration     280451 non-null  float64       \n",
      " 19  Admin First Name                 28 non-null      object        \n",
      " 20  Admin Last Name                  28 non-null      object        \n",
      " 21  Admin License Number             28 non-null      float64       \n",
      " 22  Student Gender Code              285917 non-null  object        \n",
      " 23  Student Race Ethnicity Derived   285917 non-null  object        \n",
      " 24  Student Hispanic Indicator       285917 non-null  object        \n",
      " 25  Special Ed Status Code           285917 non-null  object        \n",
      " 26  Gifted Participation Code        285917 non-null  object        \n",
      " 27  Immigrant                        285917 non-null  object        \n",
      " 28  Food Program Participation Code  285917 non-null  object        \n",
      " 29  Section 504 Status               252849 non-null  object        \n",
      " 30  R3                               283304 non-null  object        \n",
      " 31  W1                               283304 non-null  object        \n",
      " 32  W2                               283304 non-null  object        \n",
      " 33  W4                               283304 non-null  object        \n",
      " 34  W5                               283304 non-null  object        \n",
      " 35  WD                               283304 non-null  object        \n",
      " 36  WDO                              283304 non-null  object        \n",
      " 37  WG                               283304 non-null  object        \n",
      " 38  WC                               283304 non-null  object        \n",
      "dtypes: datetime64[ns](2), float64(3), int64(1), object(33)\n",
      "memory usage: 85.1+ MB\n"
     ]
    }
   ],
   "source": [
    "df.info()"
   ]
  },
  {
   "cell_type": "code",
   "execution_count": 6,
   "metadata": {},
   "outputs": [
    {
     "data": {
      "text/plain": [
       "District Name                           0\n",
       "District Code                           0\n",
       "Location Organization Type Code         5\n",
       "School Year                             0\n",
       "Student Grade Level                     0\n",
       "Infraction Event ID                     0\n",
       "Discipline Infraction Date              0\n",
       "Discipline Infraction Code              0\n",
       "Discipline Infraction                   0\n",
       "Drug Related                            0\n",
       "Alcohol Related                         0\n",
       "Gang Related                            0\n",
       "Hate Crime                              0\n",
       "Serious Injury                          0\n",
       "Criminal Charge Code                  694\n",
       "Repeat Offender                         0\n",
       "Discipline Response Code             1715\n",
       "Discipline Response                  1715\n",
       "Discipline Response Duration         5466\n",
       "Admin First Name                   285889\n",
       "Admin Last Name                    285889\n",
       "Admin License Number               285889\n",
       "Student Gender Code                     0\n",
       "Student Race Ethnicity Derived          0\n",
       "Student Hispanic Indicator              0\n",
       "Special Ed Status Code                  0\n",
       "Gifted Participation Code               0\n",
       "Immigrant                               0\n",
       "Food Program Participation Code         0\n",
       "Section 504 Status                  33068\n",
       "R3                                   2613\n",
       "W1                                   2613\n",
       "W2                                   2613\n",
       "W4                                   2613\n",
       "W5                                   2613\n",
       "WD                                   2613\n",
       "WDO                                  2613\n",
       "WG                                   2613\n",
       "WC                                   2613\n",
       "dtype: int64"
      ]
     },
     "execution_count": 6,
     "metadata": {},
     "output_type": "execute_result"
    }
   ],
   "source": [
    "df.isnull().sum()"
   ]
  },
  {
   "attachments": {},
   "cell_type": "markdown",
   "metadata": {},
   "source": [
    "### Dropping the columns that have almost all missing values"
   ]
  },
  {
   "cell_type": "code",
   "execution_count": 7,
   "metadata": {},
   "outputs": [],
   "source": [
    "df = df.drop(columns=['Admin First Name', 'Admin Last Name', 'Admin License Number'])"
   ]
  },
  {
   "cell_type": "code",
   "execution_count": 8,
   "metadata": {},
   "outputs": [
    {
     "data": {
      "text/plain": [
       "District Name                          0\n",
       "District Code                          0\n",
       "Location Organization Type Code        5\n",
       "School Year                            0\n",
       "Student Grade Level                    0\n",
       "Infraction Event ID                    0\n",
       "Discipline Infraction Date             0\n",
       "Discipline Infraction Code             0\n",
       "Discipline Infraction                  0\n",
       "Drug Related                           0\n",
       "Alcohol Related                        0\n",
       "Gang Related                           0\n",
       "Hate Crime                             0\n",
       "Serious Injury                         0\n",
       "Criminal Charge Code                 694\n",
       "Repeat Offender                        0\n",
       "Discipline Response Code            1715\n",
       "Discipline Response                 1715\n",
       "Discipline Response Duration        5466\n",
       "Student Gender Code                    0\n",
       "Student Race Ethnicity Derived         0\n",
       "Student Hispanic Indicator             0\n",
       "Special Ed Status Code                 0\n",
       "Gifted Participation Code              0\n",
       "Immigrant                              0\n",
       "Food Program Participation Code        0\n",
       "Section 504 Status                 33068\n",
       "R3                                  2613\n",
       "W1                                  2613\n",
       "W2                                  2613\n",
       "W4                                  2613\n",
       "W5                                  2613\n",
       "WD                                  2613\n",
       "WDO                                 2613\n",
       "WG                                  2613\n",
       "WC                                  2613\n",
       "dtype: int64"
      ]
     },
     "execution_count": 8,
     "metadata": {},
     "output_type": "execute_result"
    }
   ],
   "source": [
    "df.isnull().sum()"
   ]
  },
  {
   "attachments": {},
   "cell_type": "markdown",
   "metadata": {},
   "source": [
    "### Looking at some more nulls"
   ]
  },
  {
   "cell_type": "code",
   "execution_count": 9,
   "metadata": {},
   "outputs": [
    {
     "name": "stdout",
     "output_type": "stream",
     "text": [
      "N    269048\n",
      "Y     16149\n",
      "0        26\n",
      "Name: Criminal Charge Code, dtype: int64\n",
      "694\n"
     ]
    }
   ],
   "source": [
    "print(df['Criminal Charge Code'].value_counts())\n",
    "\n",
    "# Counting the number of nulls\n",
    "print(df['Criminal Charge Code'].isnull().sum())"
   ]
  },
  {
   "attachments": {},
   "cell_type": "markdown",
   "metadata": {},
   "source": [
    "# After Removing All Nulls"
   ]
  },
  {
   "attachments": {},
   "cell_type": "markdown",
   "metadata": {},
   "source": [
    "## One Hot Encode Columns"
   ]
  },
  {
   "attachments": {},
   "cell_type": "markdown",
   "metadata": {},
   "source": [
    "### Turn 55U, 55P, 55D, all into 55"
   ]
  },
  {
   "attachments": {},
   "cell_type": "markdown",
   "metadata": {},
   "source": [
    "## Plotting Some of the Data\n",
    "### Checking for any correlation"
   ]
  },
  {
   "attachments": {},
   "cell_type": "markdown",
   "metadata": {},
   "source": [
    "### Note that even if it looks like hispanics have the highest infraction rate, you should look at the number of students who are hispanics, and instead of plotting the students, take the ratio - Might have to check the enrollment spreadsheet for this\n",
    "\n",
    "#### Most of the school is likely hispanic students"
   ]
  },
  {
   "attachments": {},
   "cell_type": "markdown",
   "metadata": {},
   "source": [
    "# NOTES\n",
    "## Maybe start with just a subset of the original dataset - like just a paticular school\n",
    "\n",
    "## Try to see if a certain race has a longer punishment duration"
   ]
  },
  {
   "attachments": {},
   "cell_type": "markdown",
   "metadata": {},
   "source": [
    "## Use some of the algorithms we've looked at so far:\n",
    "### A Tree algorithm may work really good"
   ]
  },
  {
   "cell_type": "code",
   "execution_count": 10,
   "metadata": {},
   "outputs": [],
   "source": [
    "gwalker = pyg.walk(df)"
   ]
  }
 ],
 "metadata": {
  "kernelspec": {
   "display_name": "Python 3",
   "language": "python",
   "name": "python3"
  },
  "language_info": {
   "codemirror_mode": {
    "name": "ipython",
    "version": 3
   },
   "file_extension": ".py",
   "mimetype": "text/x-python",
   "name": "python",
   "nbconvert_exporter": "python",
   "pygments_lexer": "ipython3",
   "version": "3.10.1"
  },
  "orig_nbformat": 4,
  "vscode": {
   "interpreter": {
    "hash": "9760b8131888d19683c1dd506f380378de3ae472103aa29667fb35a0c7908869"
   }
  }
 },
 "nbformat": 4,
 "nbformat_minor": 2
}
